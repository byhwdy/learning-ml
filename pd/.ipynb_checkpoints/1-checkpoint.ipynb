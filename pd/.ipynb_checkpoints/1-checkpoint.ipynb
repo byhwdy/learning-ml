{
 "cells": [
  {
   "cell_type": "code",
   "execution_count": 22,
   "metadata": {},
   "outputs": [],
   "source": [
    "import pandas as pd\n",
    "import numpy as np"
   ]
  },
  {
   "cell_type": "markdown",
   "metadata": {},
   "source": [
    "## Operations"
   ]
  },
  {
   "cell_type": "markdown",
   "metadata": {},
   "source": [
    "#### Apply"
   ]
  },
  {
   "cell_type": "code",
   "execution_count": 23,
   "metadata": {},
   "outputs": [
    {
     "data": {
      "text/html": [
       "<div>\n",
       "<style scoped>\n",
       "    .dataframe tbody tr th:only-of-type {\n",
       "        vertical-align: middle;\n",
       "    }\n",
       "\n",
       "    .dataframe tbody tr th {\n",
       "        vertical-align: top;\n",
       "    }\n",
       "\n",
       "    .dataframe thead th {\n",
       "        text-align: right;\n",
       "    }\n",
       "</style>\n",
       "<table border=\"1\" class=\"dataframe\">\n",
       "  <thead>\n",
       "    <tr style=\"text-align: right;\">\n",
       "      <th></th>\n",
       "      <th>A</th>\n",
       "      <th>B</th>\n",
       "      <th>C</th>\n",
       "      <th>D</th>\n",
       "    </tr>\n",
       "  </thead>\n",
       "  <tbody>\n",
       "    <tr>\n",
       "      <th>2013-01-01</th>\n",
       "      <td>-1.312721</td>\n",
       "      <td>-0.677224</td>\n",
       "      <td>0.393247</td>\n",
       "      <td>2.151865</td>\n",
       "    </tr>\n",
       "    <tr>\n",
       "      <th>2013-01-02</th>\n",
       "      <td>-2.186912</td>\n",
       "      <td>0.501612</td>\n",
       "      <td>1.293105</td>\n",
       "      <td>0.445570</td>\n",
       "    </tr>\n",
       "    <tr>\n",
       "      <th>2013-01-03</th>\n",
       "      <td>-0.115223</td>\n",
       "      <td>-0.624382</td>\n",
       "      <td>1.436983</td>\n",
       "      <td>-0.045426</td>\n",
       "    </tr>\n",
       "    <tr>\n",
       "      <th>2013-01-04</th>\n",
       "      <td>0.805486</td>\n",
       "      <td>0.909892</td>\n",
       "      <td>-0.382623</td>\n",
       "      <td>0.765864</td>\n",
       "    </tr>\n",
       "    <tr>\n",
       "      <th>2013-01-05</th>\n",
       "      <td>-0.594657</td>\n",
       "      <td>-1.058721</td>\n",
       "      <td>-1.682340</td>\n",
       "      <td>-0.134013</td>\n",
       "    </tr>\n",
       "    <tr>\n",
       "      <th>2013-01-06</th>\n",
       "      <td>0.065874</td>\n",
       "      <td>1.184236</td>\n",
       "      <td>-0.978896</td>\n",
       "      <td>1.448014</td>\n",
       "    </tr>\n",
       "  </tbody>\n",
       "</table>\n",
       "</div>"
      ],
      "text/plain": [
       "                   A         B         C         D\n",
       "2013-01-01 -1.312721 -0.677224  0.393247  2.151865\n",
       "2013-01-02 -2.186912  0.501612  1.293105  0.445570\n",
       "2013-01-03 -0.115223 -0.624382  1.436983 -0.045426\n",
       "2013-01-04  0.805486  0.909892 -0.382623  0.765864\n",
       "2013-01-05 -0.594657 -1.058721 -1.682340 -0.134013\n",
       "2013-01-06  0.065874  1.184236 -0.978896  1.448014"
      ]
     },
     "execution_count": 23,
     "metadata": {},
     "output_type": "execute_result"
    }
   ],
   "source": [
    "dates = pd.date_range('20130101', periods=6)\n",
    "df = pd.DataFrame(np.random.randn(6,4), index=dates, columns=list('ABCD'))\n",
    "df"
   ]
  },
  {
   "cell_type": "code",
   "execution_count": 24,
   "metadata": {},
   "outputs": [
    {
     "data": {
      "text/plain": [
       "A    0.805486\n",
       "B    1.184236\n",
       "C    1.436983\n",
       "D    2.151865\n",
       "dtype: float64"
      ]
     },
     "execution_count": 24,
     "metadata": {},
     "output_type": "execute_result"
    }
   ],
   "source": [
    "df.apply(lambda x: x.max())"
   ]
  },
  {
   "cell_type": "code",
   "execution_count": null,
   "metadata": {},
   "outputs": [],
   "source": []
  },
  {
   "cell_type": "markdown",
   "metadata": {},
   "source": [
    "## Merge"
   ]
  },
  {
   "cell_type": "markdown",
   "metadata": {},
   "source": [
    "#### concat"
   ]
  },
  {
   "cell_type": "code",
   "execution_count": 2,
   "metadata": {},
   "outputs": [
    {
     "data": {
      "text/html": [
       "<div>\n",
       "<style scoped>\n",
       "    .dataframe tbody tr th:only-of-type {\n",
       "        vertical-align: middle;\n",
       "    }\n",
       "\n",
       "    .dataframe tbody tr th {\n",
       "        vertical-align: top;\n",
       "    }\n",
       "\n",
       "    .dataframe thead th {\n",
       "        text-align: right;\n",
       "    }\n",
       "</style>\n",
       "<table border=\"1\" class=\"dataframe\">\n",
       "  <thead>\n",
       "    <tr style=\"text-align: right;\">\n",
       "      <th></th>\n",
       "      <th>0</th>\n",
       "      <th>1</th>\n",
       "      <th>2</th>\n",
       "      <th>3</th>\n",
       "    </tr>\n",
       "  </thead>\n",
       "  <tbody>\n",
       "    <tr>\n",
       "      <th>0</th>\n",
       "      <td>-1.255009</td>\n",
       "      <td>-0.440510</td>\n",
       "      <td>1.176176</td>\n",
       "      <td>0.953917</td>\n",
       "    </tr>\n",
       "    <tr>\n",
       "      <th>1</th>\n",
       "      <td>0.619088</td>\n",
       "      <td>0.262192</td>\n",
       "      <td>0.417103</td>\n",
       "      <td>0.191940</td>\n",
       "    </tr>\n",
       "    <tr>\n",
       "      <th>2</th>\n",
       "      <td>-1.198049</td>\n",
       "      <td>-0.765776</td>\n",
       "      <td>-1.488964</td>\n",
       "      <td>0.791394</td>\n",
       "    </tr>\n",
       "    <tr>\n",
       "      <th>3</th>\n",
       "      <td>1.208574</td>\n",
       "      <td>-0.998291</td>\n",
       "      <td>-0.555343</td>\n",
       "      <td>0.967352</td>\n",
       "    </tr>\n",
       "    <tr>\n",
       "      <th>4</th>\n",
       "      <td>1.516534</td>\n",
       "      <td>0.481563</td>\n",
       "      <td>0.409297</td>\n",
       "      <td>0.835383</td>\n",
       "    </tr>\n",
       "    <tr>\n",
       "      <th>5</th>\n",
       "      <td>0.163233</td>\n",
       "      <td>0.182079</td>\n",
       "      <td>0.121844</td>\n",
       "      <td>0.952999</td>\n",
       "    </tr>\n",
       "    <tr>\n",
       "      <th>6</th>\n",
       "      <td>-1.324954</td>\n",
       "      <td>-0.199877</td>\n",
       "      <td>-0.857540</td>\n",
       "      <td>-1.321062</td>\n",
       "    </tr>\n",
       "    <tr>\n",
       "      <th>7</th>\n",
       "      <td>-0.355145</td>\n",
       "      <td>-1.126336</td>\n",
       "      <td>-0.262853</td>\n",
       "      <td>-0.845281</td>\n",
       "    </tr>\n",
       "    <tr>\n",
       "      <th>8</th>\n",
       "      <td>-0.692717</td>\n",
       "      <td>-0.082182</td>\n",
       "      <td>-1.542740</td>\n",
       "      <td>0.739996</td>\n",
       "    </tr>\n",
       "    <tr>\n",
       "      <th>9</th>\n",
       "      <td>-2.231871</td>\n",
       "      <td>-1.079366</td>\n",
       "      <td>1.105201</td>\n",
       "      <td>-0.338986</td>\n",
       "    </tr>\n",
       "  </tbody>\n",
       "</table>\n",
       "</div>"
      ],
      "text/plain": [
       "          0         1         2         3\n",
       "0 -1.255009 -0.440510  1.176176  0.953917\n",
       "1  0.619088  0.262192  0.417103  0.191940\n",
       "2 -1.198049 -0.765776 -1.488964  0.791394\n",
       "3  1.208574 -0.998291 -0.555343  0.967352\n",
       "4  1.516534  0.481563  0.409297  0.835383\n",
       "5  0.163233  0.182079  0.121844  0.952999\n",
       "6 -1.324954 -0.199877 -0.857540 -1.321062\n",
       "7 -0.355145 -1.126336 -0.262853 -0.845281\n",
       "8 -0.692717 -0.082182 -1.542740  0.739996\n",
       "9 -2.231871 -1.079366  1.105201 -0.338986"
      ]
     },
     "execution_count": 2,
     "metadata": {},
     "output_type": "execute_result"
    }
   ],
   "source": [
    "df = pd.DataFrame(np.random.randn(10, 4))\n",
    "df"
   ]
  },
  {
   "cell_type": "code",
   "execution_count": 4,
   "metadata": {},
   "outputs": [
    {
     "data": {
      "text/plain": [
       "[          0         1         2         3\n",
       " 0 -1.255009 -0.440510  1.176176  0.953917\n",
       " 1  0.619088  0.262192  0.417103  0.191940\n",
       " 2 -1.198049 -0.765776 -1.488964  0.791394,\n",
       "           0         1         2         3\n",
       " 3  1.208574 -0.998291 -0.555343  0.967352\n",
       " 4  1.516534  0.481563  0.409297  0.835383\n",
       " 5  0.163233  0.182079  0.121844  0.952999\n",
       " 6 -1.324954 -0.199877 -0.857540 -1.321062,\n",
       "           0         1         2         3\n",
       " 7 -0.355145 -1.126336 -0.262853 -0.845281\n",
       " 8 -0.692717 -0.082182 -1.542740  0.739996\n",
       " 9 -2.231871 -1.079366  1.105201 -0.338986]"
      ]
     },
     "execution_count": 4,
     "metadata": {},
     "output_type": "execute_result"
    }
   ],
   "source": [
    "pieces = [df[:3], df[3:7], df[7:]]\n",
    "pieces"
   ]
  },
  {
   "cell_type": "code",
   "execution_count": 5,
   "metadata": {},
   "outputs": [
    {
     "data": {
      "text/html": [
       "<div>\n",
       "<style scoped>\n",
       "    .dataframe tbody tr th:only-of-type {\n",
       "        vertical-align: middle;\n",
       "    }\n",
       "\n",
       "    .dataframe tbody tr th {\n",
       "        vertical-align: top;\n",
       "    }\n",
       "\n",
       "    .dataframe thead th {\n",
       "        text-align: right;\n",
       "    }\n",
       "</style>\n",
       "<table border=\"1\" class=\"dataframe\">\n",
       "  <thead>\n",
       "    <tr style=\"text-align: right;\">\n",
       "      <th></th>\n",
       "      <th>0</th>\n",
       "      <th>1</th>\n",
       "      <th>2</th>\n",
       "      <th>3</th>\n",
       "    </tr>\n",
       "  </thead>\n",
       "  <tbody>\n",
       "    <tr>\n",
       "      <th>0</th>\n",
       "      <td>-1.255009</td>\n",
       "      <td>-0.440510</td>\n",
       "      <td>1.176176</td>\n",
       "      <td>0.953917</td>\n",
       "    </tr>\n",
       "    <tr>\n",
       "      <th>1</th>\n",
       "      <td>0.619088</td>\n",
       "      <td>0.262192</td>\n",
       "      <td>0.417103</td>\n",
       "      <td>0.191940</td>\n",
       "    </tr>\n",
       "    <tr>\n",
       "      <th>2</th>\n",
       "      <td>-1.198049</td>\n",
       "      <td>-0.765776</td>\n",
       "      <td>-1.488964</td>\n",
       "      <td>0.791394</td>\n",
       "    </tr>\n",
       "    <tr>\n",
       "      <th>3</th>\n",
       "      <td>1.208574</td>\n",
       "      <td>-0.998291</td>\n",
       "      <td>-0.555343</td>\n",
       "      <td>0.967352</td>\n",
       "    </tr>\n",
       "    <tr>\n",
       "      <th>4</th>\n",
       "      <td>1.516534</td>\n",
       "      <td>0.481563</td>\n",
       "      <td>0.409297</td>\n",
       "      <td>0.835383</td>\n",
       "    </tr>\n",
       "    <tr>\n",
       "      <th>5</th>\n",
       "      <td>0.163233</td>\n",
       "      <td>0.182079</td>\n",
       "      <td>0.121844</td>\n",
       "      <td>0.952999</td>\n",
       "    </tr>\n",
       "    <tr>\n",
       "      <th>6</th>\n",
       "      <td>-1.324954</td>\n",
       "      <td>-0.199877</td>\n",
       "      <td>-0.857540</td>\n",
       "      <td>-1.321062</td>\n",
       "    </tr>\n",
       "    <tr>\n",
       "      <th>7</th>\n",
       "      <td>-0.355145</td>\n",
       "      <td>-1.126336</td>\n",
       "      <td>-0.262853</td>\n",
       "      <td>-0.845281</td>\n",
       "    </tr>\n",
       "    <tr>\n",
       "      <th>8</th>\n",
       "      <td>-0.692717</td>\n",
       "      <td>-0.082182</td>\n",
       "      <td>-1.542740</td>\n",
       "      <td>0.739996</td>\n",
       "    </tr>\n",
       "    <tr>\n",
       "      <th>9</th>\n",
       "      <td>-2.231871</td>\n",
       "      <td>-1.079366</td>\n",
       "      <td>1.105201</td>\n",
       "      <td>-0.338986</td>\n",
       "    </tr>\n",
       "  </tbody>\n",
       "</table>\n",
       "</div>"
      ],
      "text/plain": [
       "          0         1         2         3\n",
       "0 -1.255009 -0.440510  1.176176  0.953917\n",
       "1  0.619088  0.262192  0.417103  0.191940\n",
       "2 -1.198049 -0.765776 -1.488964  0.791394\n",
       "3  1.208574 -0.998291 -0.555343  0.967352\n",
       "4  1.516534  0.481563  0.409297  0.835383\n",
       "5  0.163233  0.182079  0.121844  0.952999\n",
       "6 -1.324954 -0.199877 -0.857540 -1.321062\n",
       "7 -0.355145 -1.126336 -0.262853 -0.845281\n",
       "8 -0.692717 -0.082182 -1.542740  0.739996\n",
       "9 -2.231871 -1.079366  1.105201 -0.338986"
      ]
     },
     "execution_count": 5,
     "metadata": {},
     "output_type": "execute_result"
    }
   ],
   "source": [
    "pd.concat(pieces)"
   ]
  },
  {
   "cell_type": "markdown",
   "metadata": {},
   "source": [
    "#### join"
   ]
  },
  {
   "cell_type": "code",
   "execution_count": 12,
   "metadata": {},
   "outputs": [],
   "source": [
    "left = pd.DataFrame({'key':['foo', 'bar'], 'lval':[1,2]})\n",
    "right = pd.DataFrame({'key':['foo', 'bar'], 'rval': [4,5]})"
   ]
  },
  {
   "cell_type": "code",
   "execution_count": 13,
   "metadata": {},
   "outputs": [
    {
     "data": {
      "text/html": [
       "<div>\n",
       "<style scoped>\n",
       "    .dataframe tbody tr th:only-of-type {\n",
       "        vertical-align: middle;\n",
       "    }\n",
       "\n",
       "    .dataframe tbody tr th {\n",
       "        vertical-align: top;\n",
       "    }\n",
       "\n",
       "    .dataframe thead th {\n",
       "        text-align: right;\n",
       "    }\n",
       "</style>\n",
       "<table border=\"1\" class=\"dataframe\">\n",
       "  <thead>\n",
       "    <tr style=\"text-align: right;\">\n",
       "      <th></th>\n",
       "      <th>key</th>\n",
       "      <th>lval</th>\n",
       "    </tr>\n",
       "  </thead>\n",
       "  <tbody>\n",
       "    <tr>\n",
       "      <th>0</th>\n",
       "      <td>foo</td>\n",
       "      <td>1</td>\n",
       "    </tr>\n",
       "    <tr>\n",
       "      <th>1</th>\n",
       "      <td>bar</td>\n",
       "      <td>2</td>\n",
       "    </tr>\n",
       "  </tbody>\n",
       "</table>\n",
       "</div>"
      ],
      "text/plain": [
       "   key  lval\n",
       "0  foo     1\n",
       "1  bar     2"
      ]
     },
     "execution_count": 13,
     "metadata": {},
     "output_type": "execute_result"
    }
   ],
   "source": [
    "left"
   ]
  },
  {
   "cell_type": "code",
   "execution_count": 14,
   "metadata": {},
   "outputs": [
    {
     "data": {
      "text/html": [
       "<div>\n",
       "<style scoped>\n",
       "    .dataframe tbody tr th:only-of-type {\n",
       "        vertical-align: middle;\n",
       "    }\n",
       "\n",
       "    .dataframe tbody tr th {\n",
       "        vertical-align: top;\n",
       "    }\n",
       "\n",
       "    .dataframe thead th {\n",
       "        text-align: right;\n",
       "    }\n",
       "</style>\n",
       "<table border=\"1\" class=\"dataframe\">\n",
       "  <thead>\n",
       "    <tr style=\"text-align: right;\">\n",
       "      <th></th>\n",
       "      <th>key</th>\n",
       "      <th>rval</th>\n",
       "    </tr>\n",
       "  </thead>\n",
       "  <tbody>\n",
       "    <tr>\n",
       "      <th>0</th>\n",
       "      <td>foo</td>\n",
       "      <td>4</td>\n",
       "    </tr>\n",
       "    <tr>\n",
       "      <th>1</th>\n",
       "      <td>bar</td>\n",
       "      <td>5</td>\n",
       "    </tr>\n",
       "  </tbody>\n",
       "</table>\n",
       "</div>"
      ],
      "text/plain": [
       "   key  rval\n",
       "0  foo     4\n",
       "1  bar     5"
      ]
     },
     "execution_count": 14,
     "metadata": {},
     "output_type": "execute_result"
    }
   ],
   "source": [
    "right"
   ]
  },
  {
   "cell_type": "code",
   "execution_count": 15,
   "metadata": {},
   "outputs": [
    {
     "data": {
      "text/html": [
       "<div>\n",
       "<style scoped>\n",
       "    .dataframe tbody tr th:only-of-type {\n",
       "        vertical-align: middle;\n",
       "    }\n",
       "\n",
       "    .dataframe tbody tr th {\n",
       "        vertical-align: top;\n",
       "    }\n",
       "\n",
       "    .dataframe thead th {\n",
       "        text-align: right;\n",
       "    }\n",
       "</style>\n",
       "<table border=\"1\" class=\"dataframe\">\n",
       "  <thead>\n",
       "    <tr style=\"text-align: right;\">\n",
       "      <th></th>\n",
       "      <th>key</th>\n",
       "      <th>lval</th>\n",
       "      <th>rval</th>\n",
       "    </tr>\n",
       "  </thead>\n",
       "  <tbody>\n",
       "    <tr>\n",
       "      <th>0</th>\n",
       "      <td>foo</td>\n",
       "      <td>1</td>\n",
       "      <td>4</td>\n",
       "    </tr>\n",
       "    <tr>\n",
       "      <th>1</th>\n",
       "      <td>bar</td>\n",
       "      <td>2</td>\n",
       "      <td>5</td>\n",
       "    </tr>\n",
       "  </tbody>\n",
       "</table>\n",
       "</div>"
      ],
      "text/plain": [
       "   key  lval  rval\n",
       "0  foo     1     4\n",
       "1  bar     2     5"
      ]
     },
     "execution_count": 15,
     "metadata": {},
     "output_type": "execute_result"
    }
   ],
   "source": [
    "pd.merge(left, right, on='key')"
   ]
  },
  {
   "cell_type": "markdown",
   "metadata": {},
   "source": [
    "#### append"
   ]
  },
  {
   "cell_type": "code",
   "execution_count": 17,
   "metadata": {},
   "outputs": [
    {
     "data": {
      "text/html": [
       "<div>\n",
       "<style scoped>\n",
       "    .dataframe tbody tr th:only-of-type {\n",
       "        vertical-align: middle;\n",
       "    }\n",
       "\n",
       "    .dataframe tbody tr th {\n",
       "        vertical-align: top;\n",
       "    }\n",
       "\n",
       "    .dataframe thead th {\n",
       "        text-align: right;\n",
       "    }\n",
       "</style>\n",
       "<table border=\"1\" class=\"dataframe\">\n",
       "  <thead>\n",
       "    <tr style=\"text-align: right;\">\n",
       "      <th></th>\n",
       "      <th>A</th>\n",
       "      <th>B</th>\n",
       "      <th>C</th>\n",
       "      <th>D</th>\n",
       "    </tr>\n",
       "  </thead>\n",
       "  <tbody>\n",
       "    <tr>\n",
       "      <th>0</th>\n",
       "      <td>-1.749244</td>\n",
       "      <td>0.657451</td>\n",
       "      <td>-0.808626</td>\n",
       "      <td>-0.090258</td>\n",
       "    </tr>\n",
       "    <tr>\n",
       "      <th>1</th>\n",
       "      <td>-0.445000</td>\n",
       "      <td>0.021169</td>\n",
       "      <td>-0.054428</td>\n",
       "      <td>-0.805185</td>\n",
       "    </tr>\n",
       "    <tr>\n",
       "      <th>2</th>\n",
       "      <td>0.488461</td>\n",
       "      <td>0.936772</td>\n",
       "      <td>-1.397807</td>\n",
       "      <td>0.663105</td>\n",
       "    </tr>\n",
       "    <tr>\n",
       "      <th>3</th>\n",
       "      <td>-1.107745</td>\n",
       "      <td>-0.118342</td>\n",
       "      <td>0.494195</td>\n",
       "      <td>2.467700</td>\n",
       "    </tr>\n",
       "    <tr>\n",
       "      <th>4</th>\n",
       "      <td>-1.278321</td>\n",
       "      <td>-1.205833</td>\n",
       "      <td>-0.739991</td>\n",
       "      <td>1.322284</td>\n",
       "    </tr>\n",
       "    <tr>\n",
       "      <th>5</th>\n",
       "      <td>-0.586860</td>\n",
       "      <td>-0.460884</td>\n",
       "      <td>0.599861</td>\n",
       "      <td>-1.068363</td>\n",
       "    </tr>\n",
       "    <tr>\n",
       "      <th>6</th>\n",
       "      <td>0.247367</td>\n",
       "      <td>1.399627</td>\n",
       "      <td>0.543425</td>\n",
       "      <td>1.680257</td>\n",
       "    </tr>\n",
       "    <tr>\n",
       "      <th>7</th>\n",
       "      <td>-0.108266</td>\n",
       "      <td>0.347855</td>\n",
       "      <td>-0.217919</td>\n",
       "      <td>-0.767697</td>\n",
       "    </tr>\n",
       "  </tbody>\n",
       "</table>\n",
       "</div>"
      ],
      "text/plain": [
       "          A         B         C         D\n",
       "0 -1.749244  0.657451 -0.808626 -0.090258\n",
       "1 -0.445000  0.021169 -0.054428 -0.805185\n",
       "2  0.488461  0.936772 -1.397807  0.663105\n",
       "3 -1.107745 -0.118342  0.494195  2.467700\n",
       "4 -1.278321 -1.205833 -0.739991  1.322284\n",
       "5 -0.586860 -0.460884  0.599861 -1.068363\n",
       "6  0.247367  1.399627  0.543425  1.680257\n",
       "7 -0.108266  0.347855 -0.217919 -0.767697"
      ]
     },
     "execution_count": 17,
     "metadata": {},
     "output_type": "execute_result"
    }
   ],
   "source": [
    "df = pd.DataFrame(np.random.randn(8, 4), columns=list('ABCD'))\n",
    "df"
   ]
  },
  {
   "cell_type": "code",
   "execution_count": 18,
   "metadata": {},
   "outputs": [],
   "source": [
    "s = df.iloc[3]"
   ]
  },
  {
   "cell_type": "code",
   "execution_count": 19,
   "metadata": {},
   "outputs": [
    {
     "data": {
      "text/plain": [
       "A   -1.107745\n",
       "B   -0.118342\n",
       "C    0.494195\n",
       "D    2.467700\n",
       "Name: 3, dtype: float64"
      ]
     },
     "execution_count": 19,
     "metadata": {},
     "output_type": "execute_result"
    }
   ],
   "source": [
    "s"
   ]
  },
  {
   "cell_type": "code",
   "execution_count": 21,
   "metadata": {},
   "outputs": [
    {
     "data": {
      "text/html": [
       "<div>\n",
       "<style scoped>\n",
       "    .dataframe tbody tr th:only-of-type {\n",
       "        vertical-align: middle;\n",
       "    }\n",
       "\n",
       "    .dataframe tbody tr th {\n",
       "        vertical-align: top;\n",
       "    }\n",
       "\n",
       "    .dataframe thead th {\n",
       "        text-align: right;\n",
       "    }\n",
       "</style>\n",
       "<table border=\"1\" class=\"dataframe\">\n",
       "  <thead>\n",
       "    <tr style=\"text-align: right;\">\n",
       "      <th></th>\n",
       "      <th>A</th>\n",
       "      <th>B</th>\n",
       "      <th>C</th>\n",
       "      <th>D</th>\n",
       "    </tr>\n",
       "  </thead>\n",
       "  <tbody>\n",
       "    <tr>\n",
       "      <th>0</th>\n",
       "      <td>-1.749244</td>\n",
       "      <td>0.657451</td>\n",
       "      <td>-0.808626</td>\n",
       "      <td>-0.090258</td>\n",
       "    </tr>\n",
       "    <tr>\n",
       "      <th>1</th>\n",
       "      <td>-0.445000</td>\n",
       "      <td>0.021169</td>\n",
       "      <td>-0.054428</td>\n",
       "      <td>-0.805185</td>\n",
       "    </tr>\n",
       "    <tr>\n",
       "      <th>2</th>\n",
       "      <td>0.488461</td>\n",
       "      <td>0.936772</td>\n",
       "      <td>-1.397807</td>\n",
       "      <td>0.663105</td>\n",
       "    </tr>\n",
       "    <tr>\n",
       "      <th>3</th>\n",
       "      <td>-1.107745</td>\n",
       "      <td>-0.118342</td>\n",
       "      <td>0.494195</td>\n",
       "      <td>2.467700</td>\n",
       "    </tr>\n",
       "    <tr>\n",
       "      <th>4</th>\n",
       "      <td>-1.278321</td>\n",
       "      <td>-1.205833</td>\n",
       "      <td>-0.739991</td>\n",
       "      <td>1.322284</td>\n",
       "    </tr>\n",
       "    <tr>\n",
       "      <th>5</th>\n",
       "      <td>-0.586860</td>\n",
       "      <td>-0.460884</td>\n",
       "      <td>0.599861</td>\n",
       "      <td>-1.068363</td>\n",
       "    </tr>\n",
       "    <tr>\n",
       "      <th>6</th>\n",
       "      <td>0.247367</td>\n",
       "      <td>1.399627</td>\n",
       "      <td>0.543425</td>\n",
       "      <td>1.680257</td>\n",
       "    </tr>\n",
       "    <tr>\n",
       "      <th>7</th>\n",
       "      <td>-0.108266</td>\n",
       "      <td>0.347855</td>\n",
       "      <td>-0.217919</td>\n",
       "      <td>-0.767697</td>\n",
       "    </tr>\n",
       "    <tr>\n",
       "      <th>3</th>\n",
       "      <td>-1.107745</td>\n",
       "      <td>-0.118342</td>\n",
       "      <td>0.494195</td>\n",
       "      <td>2.467700</td>\n",
       "    </tr>\n",
       "  </tbody>\n",
       "</table>\n",
       "</div>"
      ],
      "text/plain": [
       "          A         B         C         D\n",
       "0 -1.749244  0.657451 -0.808626 -0.090258\n",
       "1 -0.445000  0.021169 -0.054428 -0.805185\n",
       "2  0.488461  0.936772 -1.397807  0.663105\n",
       "3 -1.107745 -0.118342  0.494195  2.467700\n",
       "4 -1.278321 -1.205833 -0.739991  1.322284\n",
       "5 -0.586860 -0.460884  0.599861 -1.068363\n",
       "6  0.247367  1.399627  0.543425  1.680257\n",
       "7 -0.108266  0.347855 -0.217919 -0.767697\n",
       "3 -1.107745 -0.118342  0.494195  2.467700"
      ]
     },
     "execution_count": 21,
     "metadata": {},
     "output_type": "execute_result"
    }
   ],
   "source": [
    "df.append(s)#, ignore_index=True)"
   ]
  },
  {
   "cell_type": "code",
   "execution_count": null,
   "metadata": {},
   "outputs": [],
   "source": []
  }
 ],
 "metadata": {
  "kernelspec": {
   "display_name": "Python 3",
   "language": "python",
   "name": "python3"
  },
  "language_info": {
   "codemirror_mode": {
    "name": "ipython",
    "version": 3
   },
   "file_extension": ".py",
   "mimetype": "text/x-python",
   "name": "python",
   "nbconvert_exporter": "python",
   "pygments_lexer": "ipython3",
   "version": "3.6.4"
  }
 },
 "nbformat": 4,
 "nbformat_minor": 2
}
